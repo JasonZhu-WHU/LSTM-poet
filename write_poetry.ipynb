{
 "cells": [
  {
   "cell_type": "code",
   "execution_count": 26,
   "metadata": {},
   "outputs": [],
   "source": [
    "import torch\n",
    "from PoetryDataset import word2ix, ix2word, PoetryDataset\n",
    "from config import Config\n",
    "from Model.LSTM import Model\n",
    "\n",
    "poetry_dataset = PoetryDataset()\n",
    "cfg = Config()"
   ]
  },
  {
   "cell_type": "code",
   "execution_count": 28,
   "metadata": {},
   "outputs": [
    {
     "ename": "RuntimeError",
     "evalue": "Error(s) in loading state_dict for Model:\n\tMissing key(s) in state_dict: \"lstm.weight_ih_l2\", \"lstm.weight_hh_l2\", \"lstm.bias_ih_l2\", \"lstm.bias_hh_l2\", \"output.3.weight\", \"output.3.bias\", \"output.6.weight\", \"output.6.bias\". \n\tUnexpected key(s) in state_dict: \"output.2.weight\", \"output.2.bias\", \"output.4.weight\", \"output.4.bias\". ",
     "output_type": "error",
     "traceback": [
      "\u001b[1;31m---------------------------------------------------------------------------\u001b[0m",
      "\u001b[1;31mRuntimeError\u001b[0m                              Traceback (most recent call last)",
      "\u001b[1;32m<ipython-input-28-f4d56038f35a>\u001b[0m in \u001b[0;36m<module>\u001b[1;34m\u001b[0m\n\u001b[0;32m      2\u001b[0m \u001b[1;31m# from Model.pretrained_LSTM import Model\u001b[0m\u001b[1;33m\u001b[0m\u001b[1;33m\u001b[0m\u001b[1;33m\u001b[0m\u001b[0m\n\u001b[0;32m      3\u001b[0m \u001b[0mmodel\u001b[0m \u001b[1;33m=\u001b[0m \u001b[0mModel\u001b[0m\u001b[1;33m(\u001b[0m\u001b[1;33m)\u001b[0m\u001b[1;33m\u001b[0m\u001b[1;33m\u001b[0m\u001b[0m\n\u001b[1;32m----> 4\u001b[1;33m \u001b[0mmodel\u001b[0m\u001b[1;33m.\u001b[0m\u001b[0mload_state_dict\u001b[0m\u001b[1;33m(\u001b[0m\u001b[0mtorch\u001b[0m\u001b[1;33m.\u001b[0m\u001b[0mload\u001b[0m\u001b[1;33m(\u001b[0m\u001b[1;34m'LSTM_one_direction.pth'\u001b[0m\u001b[1;33m)\u001b[0m\u001b[1;33m)\u001b[0m\u001b[1;33m\u001b[0m\u001b[1;33m\u001b[0m\u001b[0m\n\u001b[0m\u001b[0;32m      5\u001b[0m \u001b[1;31m# model.load_state_dict(torch.load('BiLSTM.pth'))\u001b[0m\u001b[1;33m\u001b[0m\u001b[1;33m\u001b[0m\u001b[1;33m\u001b[0m\u001b[0m\n\u001b[0;32m      6\u001b[0m \u001b[0mmodel\u001b[0m\u001b[1;33m.\u001b[0m\u001b[0mcuda\u001b[0m\u001b[1;33m(\u001b[0m\u001b[1;33m)\u001b[0m\u001b[1;33m\u001b[0m\u001b[1;33m\u001b[0m\u001b[0m\n",
      "\u001b[1;32md:\\Anaconda3\\lib\\site-packages\\torch\\nn\\modules\\module.py\u001b[0m in \u001b[0;36mload_state_dict\u001b[1;34m(self, state_dict, strict)\u001b[0m\n\u001b[0;32m   1480\u001b[0m \u001b[1;33m\u001b[0m\u001b[0m\n\u001b[0;32m   1481\u001b[0m         \u001b[1;32mif\u001b[0m \u001b[0mlen\u001b[0m\u001b[1;33m(\u001b[0m\u001b[0merror_msgs\u001b[0m\u001b[1;33m)\u001b[0m \u001b[1;33m>\u001b[0m \u001b[1;36m0\u001b[0m\u001b[1;33m:\u001b[0m\u001b[1;33m\u001b[0m\u001b[1;33m\u001b[0m\u001b[0m\n\u001b[1;32m-> 1482\u001b[1;33m             raise RuntimeError('Error(s) in loading state_dict for {}:\\n\\t{}'.format(\n\u001b[0m\u001b[0;32m   1483\u001b[0m                                self.__class__.__name__, \"\\n\\t\".join(error_msgs)))\n\u001b[0;32m   1484\u001b[0m         \u001b[1;32mreturn\u001b[0m \u001b[0m_IncompatibleKeys\u001b[0m\u001b[1;33m(\u001b[0m\u001b[0mmissing_keys\u001b[0m\u001b[1;33m,\u001b[0m \u001b[0munexpected_keys\u001b[0m\u001b[1;33m)\u001b[0m\u001b[1;33m\u001b[0m\u001b[1;33m\u001b[0m\u001b[0m\n",
      "\u001b[1;31mRuntimeError\u001b[0m: Error(s) in loading state_dict for Model:\n\tMissing key(s) in state_dict: \"lstm.weight_ih_l2\", \"lstm.weight_hh_l2\", \"lstm.bias_ih_l2\", \"lstm.bias_hh_l2\", \"output.3.weight\", \"output.3.bias\", \"output.6.weight\", \"output.6.bias\". \n\tUnexpected key(s) in state_dict: \"output.2.weight\", \"output.2.bias\", \"output.4.weight\", \"output.4.bias\". "
     ]
    }
   ],
   "source": [
    "# 加载模型\n",
    "# from Model.pretrained_LSTM import Model\n",
    "model = Model()\n",
    "model.load_state_dict(torch.load('LSTM_one_direction.pth'))\n",
    "# model.load_state_dict(torch.load('BiLSTM.pth'))\n",
    "model.cuda()\n",
    "model.eval()"
   ]
  },
  {
   "cell_type": "code",
   "execution_count": 22,
   "metadata": {},
   "outputs": [],
   "source": [
    "def write_poetry_from_first_sentence(first_sentence):\n",
    "    poetry = list(first_sentence)\n",
    "    # 初始隐状态\n",
    "    bidirectional_num = 2 if cfg.bidirectional else 1\n",
    "    hidden = torch.zeros((2, cfg.lstm_layers*1, 1, cfg.hidden_size), dtype=torch.float).cuda()\n",
    "    input = torch.Tensor([word2ix['<START>']]).view(1,1).long().cuda()\n",
    "    with torch.no_grad():\n",
    "        for i in range(cfg.seq_len):\n",
    "            output, hidden = model(input, hidden)\n",
    "            word_predicted = ''\n",
    "            # 读取第一句\n",
    "            if i < len(first_sentence):\n",
    "                word_predicted = first_sentence[i]\n",
    "                input = input.data.new([word2ix[word_predicted]]).view(1,1)\n",
    "            else:\n",
    "                top_idx = output.data[0].topk(1)[1][0].item()\n",
    "                word_predicted = ix2word[top_idx]\n",
    "                poetry.append(word_predicted)\n",
    "                input = input.data.new([top_idx]).view(1,1)\n",
    "            \n",
    "            if word_predicted == '<START>':\n",
    "                continue\n",
    "            if word_predicted == '<EOP>' or word_predicted == '<EOP>':\n",
    "                poetry.pop(-1)\n",
    "                if len(poetry) < 23:\n",
    "                    continue\n",
    "                break\n",
    "    return ''.join(poetry)\n",
    "    \n",
    "\n",
    "def write_poetry_from_first_chars(firstchars):\n",
    "    poetry = []\n",
    "    count = 0\n",
    "    bidirectional_num = 2 if cfg.bidirectional else 1\n",
    "    hidden = torch.zeros((2, cfg.lstm_layers*1, 1, cfg.hidden_size), dtype = torch.float).cuda()\n",
    "    input = torch.Tensor([word2ix['<START>']]).view(1,1).long().cuda()\n",
    "    with torch.no_grad():\n",
    "        for i in range(cfg.seq_len):\n",
    "            output, hidden = model(input, hidden)\n",
    "            word_predicted = ''\n",
    "            if i == 0 or (poetry[-1] in ['，', '。'] and count < len(firstchars)):\n",
    "                word_predicted = firstchars[count]\n",
    "                count += 1\n",
    "                input = input.data.new([word2ix[word_predicted]]).view(1,1)\n",
    "            else:\n",
    "                top_idx = output.data[0].topk(1)[1][0].item()\n",
    "                word_predicted = ix2word[top_idx]\n",
    "                input = input.data.new([top_idx]).view(1, 1)\n",
    "            \n",
    "            if word_predicted == '<START>':\n",
    "                continue\n",
    "            poetry.append(word_predicted)\n",
    "            if word_predicted == '<EOP>' or word_predicted == '<EOP>':\n",
    "                poetry.pop(-1)\n",
    "                if len(poetry) < 23:\n",
    "                    continue\n",
    "                break\n",
    "    return ''.join(poetry)\n",
    "            "
   ]
  },
  {
   "cell_type": "code",
   "execution_count": 24,
   "metadata": {},
   "outputs": [
    {
     "name": "stdout",
     "output_type": "stream",
     "text": [
      "人闲桂花落，春色上阶长。<START>春风满长路，落日满长安。\n",
      "驿外断桥边，愁人两断肠。不言人不见，独自戍来流。\n",
      "赵客缦胡缨，秦人传异才。一声南北笛，一曲落中杯。\n",
      "明月几时有，白云千里归。相思不相见，相见复相依。\n",
      "春江潮水连海平，白云飞者吹子飞。白鸥白鹭双翅垂，参差褭浪红绡飞。吴儿汉女弄环珮，越女红儿弄浪鬟。舞裙红粉红粉裙，花花笑语红妆红。\n",
      "天门中断楚江开，一片春愁一片烟。今日送君心似烛，故乡无处不相依。\n",
      "昨夜星辰昨夜风，一声歌尽更迟迟。若教得似湘妃泪，不肯敎离一夜歌。\n",
      "朝辞白帝彩云间，曾是人间旧业人。一片烟霞归不得，几家烟火不堪归。江边野店寒侵店，山下孤烟夜对衣。独恨故园无处所，空闻寒雨滴啼痕。\n",
      "葡萄美酒夜光杯，醉后歌声莫慢狂。莫遣花前醉，醒看日暮催。\n",
      "东风夜放花千树，落日风吹一片烟。莫怪相思不相见，明朝重作別离来。\n",
      "紫泉宫殿锁烟霞，洞里仙居几处闻。仙洞仙来无处所，洞庭秋月夜凉风。\n",
      "花近高楼伤客心，空弹古木有清音。明妃旧手应无点，楚女青蛾不胜羞。\n",
      "积雨空林烟火迟，故人相见正裴回。风吹野草秋无力，风引寒梅雨半飞。独向高楼思一曲，遥知別路几回催。\n",
      "身向云山那畔行，几回归去白云飞。几回重到青云路，唯有松风入夜归。\n",
      "落魄江湖载酒行，一杯一醆欲同归。青云不是人间事，白发还同镜里身。惆怅旧游还似梦，故来无计得相违。\n"
     ]
    }
   ],
   "source": [
    "print(write_poetry_from_first_sentence('人闲桂花落'))\n",
    "print(write_poetry_from_first_sentence('驿外断桥边'))\n",
    "print(write_poetry_from_first_sentence('赵客缦胡缨'))\n",
    "print(write_poetry_from_first_sentence('明月几时有'))\n",
    "print(write_poetry_from_first_sentence('春江潮水连海平'))\n",
    "print(write_poetry_from_first_sentence('天门中断楚江开'))\n",
    "print(write_poetry_from_first_sentence('昨夜星辰昨夜风'))\n",
    "print(write_poetry_from_first_sentence('朝辞白帝彩云间'))\n",
    "print(write_poetry_from_first_sentence('葡萄美酒夜光杯'))\n",
    "print(write_poetry_from_first_sentence('东风夜放花千树'))\n",
    "print(write_poetry_from_first_sentence('紫泉宫殿锁烟霞'))\n",
    "print(write_poetry_from_first_sentence('花近高楼伤客心'))\n",
    "print(write_poetry_from_first_sentence('积雨空林烟火迟'))\n",
    "print(write_poetry_from_first_sentence('身向云山那畔行'))\n",
    "print(write_poetry_from_first_sentence('落魄江湖载酒行'))"
   ]
  },
  {
   "cell_type": "code",
   "execution_count": 25,
   "metadata": {},
   "outputs": [
    {
     "name": "stdout",
     "output_type": "stream",
     "text": [
      "朱绂何曾重，健愚自不如。行藏数年事，梦想一年时。\n",
      "戢，启命复何为。瑞雪飞飞起，春风送羽仪。凤凰传圣旨，飞雨想仙舟。\n",
      "球。王孙不敢下，牛羊出马前。逼身不得主，出门不敢言。一朝不得意，万里无艰过。大士不得意，高堂空叹息。人生若不昨夜月明天，离人怨\n",
      "阎巷儿爷。熠狼红杏，光耀黄金。金屋圆光，玉树琼枝。\n",
      "祝融峰下，捷信天台顶上看。一片白云飞不住，几回青鸟上青天。\n",
      "祝融峰下，平地天涯是古原。万里烟尘无一处，一川烟草是离人。\n",
      "胡儿出没燕支山，小犬黄雀走。泉边一个鱼，夜有一个月。\n",
      "胡儿出没燕支山，昌时城下春云飞。泰山之禹日不得，汉家名臣死亦迟。汉家天子重忠孝，不知何处无功臣。\n",
      "胡儿出没燕支山，晓织锦丝催断云。泉声不入山头浅，水色遥分落处清。\n",
      "深夜月明前后时，度花飞絮满庭枝。学君不识人间事，习语应须客语多。\n",
      "中有一人，国有一匹。科名不改，学行不极。院门寂前垂白露，大是天涯。学得真人，真如不识。\n",
      "我有一双白鹭之沈梧。爱之不知处，自有青山之上天。然有片石之作天，语而不见心如何。言语不语意不异，处人独见人间有。理性无即是禅，\n"
     ]
    }
   ],
   "source": [
    "print(write_poetry_from_first_chars('朱健行'))\n",
    "print(write_poetry_from_first_chars('戢启瑞'))\n",
    "print(write_poetry_from_first_chars('球王牛逼'))\n",
    "print(write_poetry_from_first_chars('阎熠光'))\n",
    "print(write_poetry_from_first_chars('祝捷'))\n",
    "print(write_poetry_from_first_chars('祝平'))\n",
    "print(write_poetry_from_first_chars('胡小泉'))\n",
    "print(write_poetry_from_first_chars('胡昌泰'))\n",
    "print(write_poetry_from_first_chars('胡晓泉'))\n",
    "print(write_poetry_from_first_chars('深度学习'))\n",
    "print(write_poetry_from_first_chars('中国科学院大学'))\n",
    "print(write_poetry_from_first_chars('我爱自然语言处理'))"
   ]
  },
  {
   "cell_type": "code",
   "execution_count": null,
   "metadata": {},
   "outputs": [],
   "source": []
  }
 ],
 "metadata": {
  "interpreter": {
   "hash": "b09ec625f77bf4fd762565a912b97636504ad6ec901eb2d0f4cf5a7de23e1ee5"
  },
  "kernelspec": {
   "display_name": "Python 3.8.8 ('base')",
   "language": "python",
   "name": "python3"
  },
  "language_info": {
   "codemirror_mode": {
    "name": "ipython",
    "version": 3
   },
   "file_extension": ".py",
   "mimetype": "text/x-python",
   "name": "python",
   "nbconvert_exporter": "python",
   "pygments_lexer": "ipython3",
   "version": "3.8.8"
  },
  "orig_nbformat": 4
 },
 "nbformat": 4,
 "nbformat_minor": 2
}
